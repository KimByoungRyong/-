{
 "cells": [
  {
   "cell_type": "markdown",
   "id": "b991583e",
   "metadata": {},
   "source": [
    "* 키보드 이벤트 처리"
   ]
  },
  {
   "cell_type": "code",
   "execution_count": 1,
   "id": "2b661cdd",
   "metadata": {},
   "outputs": [],
   "source": [
    "import numpy as np\n",
    "import cv2"
   ]
  },
  {
   "cell_type": "code",
   "execution_count": 5,
   "id": "23da8059",
   "metadata": {},
   "outputs": [],
   "source": [
    "width, height = 512, 512\n",
    "x, y = width//2, height//2\n",
    "R = 50\n",
    "\n",
    "direction = 0  # 0 :right, 1: down, 2:left, 3: up\n",
    "\n",
    "while True:\n",
    "    key = cv2.waitKeyEx(30)\n",
    "    if key == 0x1B:\n",
    "        break\n",
    "    \n",
    "    # 방향키처리\n",
    "    elif key == 0x270000: # right\n",
    "        direction = 0\n",
    "    elif key == 0x280000: # down\n",
    "        direction = 1\n",
    "    elif key == 0x250000: # left\n",
    "        direction = 2\n",
    "    elif key == 0x260000: # up\n",
    "        direction = 3        \n",
    "     \n",
    "    # 방향에 맞게 x, y 좌표 설정\n",
    "    if direction == 0:\n",
    "        x += 10\n",
    "    elif direction == 1:\n",
    "        y += 10\n",
    "    elif direction == 2:\n",
    "        x -= 10\n",
    "    else: # 3\n",
    "        y -= 10\n",
    "        \n",
    "    # 경계확인\n",
    "    if x < R:\n",
    "        x = R\n",
    "        direction = 0\n",
    "    if x > width - R:\n",
    "        x = width - R\n",
    "        direction = 2\n",
    "    \n",
    "    if y < R:\n",
    "        y = R\n",
    "        direction = 1\n",
    "    if y > height - R:\n",
    "        y = height - R\n",
    "        direction = 3\n",
    "        \n",
    "    # 지우기, 그리기\n",
    "    \n",
    "    img = np.zeros((width, height, 3), np.uint8) + 255\n",
    "    cv2.circle(img, (x, y), R, (0, 0, 255), -1)\n",
    "    cv2.imshow('img', img)\n",
    "    \n",
    "cv2.destroyAllWindows()"
   ]
  },
  {
   "cell_type": "markdown",
   "id": "accbd870",
   "metadata": {},
   "source": [
    "* 마우스 이벤트 처리"
   ]
  },
  {
   "cell_type": "code",
   "execution_count": 11,
   "id": "228cbd45",
   "metadata": {},
   "outputs": [],
   "source": [
    "img = np.zeros((512, 512, 3), np.uint8) + 255\n",
    "\n",
    "def onMouse(event, x, y, flags, param):\n",
    "    if event == cv2.EVENT_LBUTTONDOWN:\n",
    "        if flags & cv2.EVENT_FLAG_SHIFTKEY:\n",
    "            cv2.rectangle(param[0], (x-5, y-5), (x+5, y+5), (255, 0, 0))\n",
    "        else:\n",
    "            cv2.circle(param[0], (x, y), 5, (255, 0, 0), 3)\n",
    "    \n",
    "    elif event == cv2.EVENT_RBUTTONDOWN:\n",
    "        cv2.circle(param[0], (x, y), 5, (0, 0, 255), 3)\n",
    "    \n",
    "    elif event == cv2.EVENT_LBUTTONDBLCLK:\n",
    "        param[0] = np.zeros((512, 512, 3), np.uint8) + 255\n",
    "        \n",
    "        \n",
    "    cv2.imshow('img', param[0])\n",
    "\n",
    "############################################\n",
    "cv2.imshow('img', img)\n",
    "\n",
    "cv2.setMouseCallback('img', onMouse, [img])\n",
    "cv2.waitKey()\n",
    "cv2.destroyAllWindows()"
   ]
  },
  {
   "cell_type": "markdown",
   "id": "e13037f6",
   "metadata": {},
   "source": [
    "* 트랙바 이벤트 처리"
   ]
  },
  {
   "cell_type": "code",
   "execution_count": 13,
   "id": "5e4a78ef",
   "metadata": {},
   "outputs": [
    {
     "data": {
      "text/plain": [
       "(512, 512, 3)"
      ]
     },
     "execution_count": 13,
     "metadata": {},
     "output_type": "execute_result"
    }
   ],
   "source": [
    "img.shape"
   ]
  },
  {
   "cell_type": "code",
   "execution_count": 21,
   "id": "c778676d",
   "metadata": {},
   "outputs": [],
   "source": [
    "def onChange(pos):\n",
    "    global img\n",
    "    r = cv2.getTrackbarPos('R', 'img')\n",
    "    g = cv2.getTrackbarPos('G', 'img')\n",
    "    b = cv2.getTrackbarPos('B', 'img')\n",
    "    img[:] = (b, g, r)\n",
    "    cv2.imshow('img', img)\n",
    "\n",
    "\n",
    "img = np.zeros((512, 512, 3), np.uint8) + 255\n",
    "cv2.imshow('img',img)\n",
    "cv2.createTrackbar('R', 'img', 0, 255, onChange)\n",
    "cv2.createTrackbar('G', 'img', 0, 255, onChange)\n",
    "cv2.createTrackbar('B', 'img', 0, 255, onChange)\n",
    "\n",
    "cv2.setTrackbarPos('B', 'img', 255)\n",
    "\n",
    "cv2.waitKey()\n",
    "cv2.destroyAllWindows()"
   ]
  },
  {
   "cell_type": "code",
   "execution_count": 22,
   "id": "b16a27ea",
   "metadata": {},
   "outputs": [],
   "source": [
    "a1 = np.array([1, 2, 3])\n",
    "a2 = np.array([[1, 2, 3],\n",
    "               [4, 5, 6]])"
   ]
  },
  {
   "cell_type": "code",
   "execution_count": 24,
   "id": "90495a62",
   "metadata": {},
   "outputs": [
    {
     "data": {
      "text/plain": [
       "array([1, 2])"
      ]
     },
     "execution_count": 24,
     "metadata": {},
     "output_type": "execute_result"
    }
   ],
   "source": [
    "a1[0:2]"
   ]
  },
  {
   "cell_type": "code",
   "execution_count": 25,
   "id": "1e45ead9",
   "metadata": {},
   "outputs": [
    {
     "data": {
      "text/plain": [
       "array([[2, 3]])"
      ]
     },
     "execution_count": 25,
     "metadata": {},
     "output_type": "execute_result"
    }
   ],
   "source": [
    "a2[:1, 1:]"
   ]
  },
  {
   "cell_type": "code",
   "execution_count": 26,
   "id": "25f06738",
   "metadata": {},
   "outputs": [
    {
     "data": {
      "text/plain": [
       "array([[5, 6]])"
      ]
     },
     "execution_count": 26,
     "metadata": {},
     "output_type": "execute_result"
    }
   ],
   "source": [
    "a2[1:,1:]"
   ]
  },
  {
   "cell_type": "markdown",
   "id": "0183ae29",
   "metadata": {},
   "source": [
    "## OpenCV 기본연산"
   ]
  },
  {
   "cell_type": "markdown",
   "id": "ac49f4a6",
   "metadata": {},
   "source": [
    "* 형상(shape), 자료형(dtype) 확인"
   ]
  },
  {
   "cell_type": "code",
   "execution_count": 30,
   "id": "83fc740c",
   "metadata": {},
   "outputs": [],
   "source": [
    "img = cv2.imread('./data/lena.jpg') #cv2.IMREAD_COLOR"
   ]
  },
  {
   "cell_type": "code",
   "execution_count": 31,
   "id": "cb8a2366",
   "metadata": {
    "scrolled": true
   },
   "outputs": [
    {
     "data": {
      "text/plain": [
       "numpy.ndarray"
      ]
     },
     "execution_count": 31,
     "metadata": {},
     "output_type": "execute_result"
    }
   ],
   "source": [
    "type(img)"
   ]
  },
  {
   "cell_type": "code",
   "execution_count": 32,
   "id": "50c844ac",
   "metadata": {},
   "outputs": [
    {
     "data": {
      "text/plain": [
       "3"
      ]
     },
     "execution_count": 32,
     "metadata": {},
     "output_type": "execute_result"
    }
   ],
   "source": [
    "img.ndim"
   ]
  },
  {
   "cell_type": "code",
   "execution_count": 33,
   "id": "7a3292e4",
   "metadata": {},
   "outputs": [
    {
     "data": {
      "text/plain": [
       "(512, 512, 3)"
      ]
     },
     "execution_count": 33,
     "metadata": {},
     "output_type": "execute_result"
    }
   ],
   "source": [
    "img.shape"
   ]
  },
  {
   "cell_type": "code",
   "execution_count": 34,
   "id": "1456e7fa",
   "metadata": {},
   "outputs": [
    {
     "data": {
      "text/plain": [
       "dtype('uint8')"
      ]
     },
     "execution_count": 34,
     "metadata": {},
     "output_type": "execute_result"
    }
   ],
   "source": [
    "img.dtype"
   ]
  },
  {
   "cell_type": "code",
   "execution_count": 35,
   "id": "47387e8d",
   "metadata": {},
   "outputs": [],
   "source": [
    "img = img.astype(np.int32)"
   ]
  },
  {
   "cell_type": "code",
   "execution_count": 36,
   "id": "e1bbc2b4",
   "metadata": {},
   "outputs": [
    {
     "data": {
      "text/plain": [
       "dtype('int32')"
      ]
     },
     "execution_count": 36,
     "metadata": {},
     "output_type": "execute_result"
    }
   ],
   "source": [
    "img.dtype"
   ]
  },
  {
   "cell_type": "code",
   "execution_count": 37,
   "id": "c7ee23f8",
   "metadata": {},
   "outputs": [],
   "source": [
    "img = np.uint8(img)"
   ]
  },
  {
   "cell_type": "code",
   "execution_count": 38,
   "id": "a20f7ea9",
   "metadata": {},
   "outputs": [
    {
     "data": {
      "text/plain": [
       "dtype('uint8')"
      ]
     },
     "execution_count": 38,
     "metadata": {},
     "output_type": "execute_result"
    }
   ],
   "source": [
    "img.dtype"
   ]
  },
  {
   "cell_type": "markdown",
   "id": "12f87933",
   "metadata": {},
   "source": [
    "* 모양 변경하기"
   ]
  },
  {
   "cell_type": "code",
   "execution_count": 39,
   "id": "d039b471",
   "metadata": {},
   "outputs": [],
   "source": [
    "img = cv2.imread('./data/lena.jpg', cv2.IMREAD_GRAYSCALE)"
   ]
  },
  {
   "cell_type": "code",
   "execution_count": 40,
   "id": "44b52fb6",
   "metadata": {},
   "outputs": [
    {
     "data": {
      "text/plain": [
       "(512, 512)"
      ]
     },
     "execution_count": 40,
     "metadata": {},
     "output_type": "execute_result"
    }
   ],
   "source": [
    "img.shape"
   ]
  },
  {
   "cell_type": "code",
   "execution_count": 41,
   "id": "822697fc",
   "metadata": {},
   "outputs": [
    {
     "data": {
      "text/plain": [
       "262144"
      ]
     },
     "execution_count": 41,
     "metadata": {},
     "output_type": "execute_result"
    }
   ],
   "source": [
    "512 * 512"
   ]
  },
  {
   "cell_type": "code",
   "execution_count": 42,
   "id": "b8faf0c3",
   "metadata": {},
   "outputs": [],
   "source": [
    "img = img.flatten()"
   ]
  },
  {
   "cell_type": "code",
   "execution_count": 43,
   "id": "423089cf",
   "metadata": {},
   "outputs": [
    {
     "data": {
      "text/plain": [
       "(262144,)"
      ]
     },
     "execution_count": 43,
     "metadata": {},
     "output_type": "execute_result"
    }
   ],
   "source": [
    "img.shape"
   ]
  },
  {
   "cell_type": "code",
   "execution_count": 44,
   "id": "9cee31ec",
   "metadata": {},
   "outputs": [],
   "source": [
    "img = img.reshape(512, 512)"
   ]
  },
  {
   "cell_type": "code",
   "execution_count": 45,
   "id": "f4a284ba",
   "metadata": {},
   "outputs": [
    {
     "data": {
      "text/plain": [
       "(512, 512)"
      ]
     },
     "execution_count": 45,
     "metadata": {},
     "output_type": "execute_result"
    }
   ],
   "source": [
    "img.shape"
   ]
  },
  {
   "cell_type": "code",
   "execution_count": 46,
   "id": "df26f166",
   "metadata": {},
   "outputs": [],
   "source": [
    "img = img.flatten()"
   ]
  },
  {
   "cell_type": "code",
   "execution_count": 47,
   "id": "08112099",
   "metadata": {},
   "outputs": [],
   "source": [
    "img = img.reshape(-1, 512, 512)"
   ]
  },
  {
   "cell_type": "code",
   "execution_count": 48,
   "id": "d202e499",
   "metadata": {},
   "outputs": [
    {
     "data": {
      "text/plain": [
       "(1, 512, 512)"
      ]
     },
     "execution_count": 48,
     "metadata": {},
     "output_type": "execute_result"
    }
   ],
   "source": [
    "img.shape"
   ]
  },
  {
   "cell_type": "code",
   "execution_count": 51,
   "id": "fbafebe0",
   "metadata": {},
   "outputs": [],
   "source": [
    "cv2.imshow(\"img2\", img[0])\n",
    "cv2.waitKey()\n",
    "cv2.destroyAllWindows()"
   ]
  },
  {
   "cell_type": "markdown",
   "id": "97a67622",
   "metadata": {},
   "source": [
    "* 화소 접근 1 : 그레이 스케일영상"
   ]
  },
  {
   "cell_type": "code",
   "execution_count": 52,
   "id": "d1203d86",
   "metadata": {},
   "outputs": [
    {
     "data": {
      "text/plain": [
       "array([[163, 162, 161, ..., 170, 154, 130],\n",
       "       [162, 162, 162, ..., 173, 155, 126],\n",
       "       [162, 162, 163, ..., 170, 155, 128],\n",
       "       ...,\n",
       "       [ 43,  42,  51, ..., 103, 101,  99],\n",
       "       [ 41,  42,  55, ..., 103, 105, 106],\n",
       "       [ 42,  44,  57, ..., 102, 106, 109]], dtype=uint8)"
      ]
     },
     "execution_count": 52,
     "metadata": {},
     "output_type": "execute_result"
    }
   ],
   "source": [
    "img = cv2.imread('./data/lena.jpg', cv2.IMREAD_GRAYSCALE)\n",
    "\n",
    "img[100, 200] = 0\n",
    "\n",
    "img[100:400, 200:300] = 0\n",
    "\n",
    "cv2.imshow(\"img2\", img)\n",
    "cv2.waitKey()\n",
    "cv2.destroyAllWindows()"
   ]
  },
  {
   "cell_type": "markdown",
   "id": "1d6d200d",
   "metadata": {},
   "source": [
    "* 화소 접근 2 : 컬러 영상"
   ]
  },
  {
   "cell_type": "code",
   "execution_count": 59,
   "id": "202f7839",
   "metadata": {},
   "outputs": [],
   "source": [
    "img = cv2.imread('./data/lena.jpg', cv2.IMREAD_COLOR)\n",
    "\n",
    "img[100, 200] = [255, 0, 0]\n",
    "\n",
    "img[100:400, 200:300] = [255, 0, 0]\n",
    "\n",
    "cv2.imshow(\"img2\", img)\n",
    "cv2.waitKey()\n",
    "cv2.destroyAllWindows()"
   ]
  },
  {
   "cell_type": "markdown",
   "id": "d1d0bdc4",
   "metadata": {},
   "source": [
    "* 화소 접근 3 : 채널 접근"
   ]
  },
  {
   "cell_type": "code",
   "execution_count": 63,
   "id": "bcc7548d",
   "metadata": {},
   "outputs": [],
   "source": [
    "img = cv2.imread('./data/lena.jpg', cv2.IMREAD_COLOR)\n",
    "\n",
    "\n",
    "img[100:400, 200:300, 0] = 255  # Blue channel\n",
    "img[100:400, 200:300, 1] = 255\n",
    "img[100:400, 200:300, 2] = 255\n",
    "\n",
    "cv2.imshow(\"img2\", img)\n",
    "cv2.waitKey()\n",
    "cv2.destroyAllWindows()"
   ]
  },
  {
   "cell_type": "markdown",
   "id": "9cff14a1",
   "metadata": {},
   "source": [
    "* 마우스로 ROI 영역 지정 : selecROI()"
   ]
  },
  {
   "cell_type": "code",
   "execution_count": 5,
   "id": "c90fae71",
   "metadata": {},
   "outputs": [],
   "source": [
    "src = cv2.imread('./data/lena.jpg', cv2.IMREAD_GRAYSCALE)\n",
    "roi = cv2.selectROI(src)\n",
    "\n",
    "img = src[roi[1]:roi[1]+roi[3], roi[0]:roi[0]+roi[2]]\n",
    "\n",
    "cv2.imshow('img', img)\n",
    "cv2.waitKey()\n",
    "cv2.destroyAllWindows()"
   ]
  },
  {
   "cell_type": "code",
   "execution_count": 65,
   "id": "f68f7abd",
   "metadata": {},
   "outputs": [
    {
     "data": {
      "text/plain": [
       "(97, 92, 195, 164)"
      ]
     },
     "execution_count": 65,
     "metadata": {},
     "output_type": "execute_result"
    }
   ],
   "source": [
    "roi"
   ]
  },
  {
   "cell_type": "markdown",
   "id": "5c3292d7",
   "metadata": {},
   "source": [
    "* 마우스로 다중 ROI 영역 지정 : selecROIs()"
   ]
  },
  {
   "cell_type": "code",
   "execution_count": 8,
   "id": "59808650",
   "metadata": {},
   "outputs": [],
   "source": [
    "src = cv2.imread('./data/lena.jpg', cv2.IMREAD_GRAYSCALE)\n",
    "rois = cv2.selectROIs('src', src, True, False)\n",
    "\n",
    "for r in rois:\n",
    "    cv2.rectangle(src, (r[0], r[1]), (r[0]+r[2], r[1]+r[3]), 255)\n",
    "    \n",
    "cv2.imshow('src', src)\n",
    "cv2.waitKey()\n",
    "cv2.destroyAllWindows()    "
   ]
  },
  {
   "cell_type": "code",
   "execution_count": 7,
   "id": "4995e1bc",
   "metadata": {},
   "outputs": [
    {
     "data": {
      "text/plain": [
       "array([[  0,   0, 116, 126],\n",
       "       [127,  79, 140, 194],\n",
       "       [274, 199, 128, 166]], dtype=int32)"
      ]
     },
     "execution_count": 7,
     "metadata": {},
     "output_type": "execute_result"
    }
   ],
   "source": [
    "rois"
   ]
  },
  {
   "cell_type": "code",
   "execution_count": 9,
   "id": "3fb0bc08",
   "metadata": {},
   "outputs": [
    {
     "data": {
      "text/plain": [
       "array([[ 70,  87, 120, 118],\n",
       "       [282, 188, 133, 116]], dtype=int32)"
      ]
     },
     "execution_count": 9,
     "metadata": {},
     "output_type": "execute_result"
    }
   ],
   "source": [
    "rois"
   ]
  },
  {
   "cell_type": "markdown",
   "id": "c3ede125",
   "metadata": {},
   "source": [
    "* 블록 평균 영상"
   ]
  },
  {
   "cell_type": "code",
   "execution_count": 24,
   "id": "b376b194",
   "metadata": {},
   "outputs": [],
   "source": [
    "src = cv2.imread('./data/lena.jpg', cv2.IMREAD_GRAYSCALE)\n",
    "dst = np.zeros(src.shape, dtype=src.dtype)\n",
    "\n",
    "N = 4\n",
    "height, width = src.shape\n",
    "\n",
    "h = height // N\n",
    "w = width // N\n",
    "\n",
    "for i in range(N):\n",
    "    for j in range(N):\n",
    "        x = j*w\n",
    "        y = i*h\n",
    "        roi = src[y:y+h, x:x+w]\n",
    "        dst[y:y+h, x:x+w] = roi.mean()\n",
    "\n",
    "cv2.imshow('dst', dst)\n",
    "cv2.waitKey()\n",
    "cv2.destroyAllWindows()"
   ]
  },
  {
   "cell_type": "code",
   "execution_count": 32,
   "id": "7b9f8fa5",
   "metadata": {},
   "outputs": [],
   "source": [
    "src = cv2.imread('./data/lena.jpg')\n",
    "dst = np.zeros(src.shape, dtype=src.dtype)\n",
    "\n",
    "N = 64\n",
    "height, width, _ = src.shape\n",
    "\n",
    "h = height // N\n",
    "w = width // N\n",
    "\n",
    "for i in range(N):\n",
    "    for j in range(N):\n",
    "        x = j*w\n",
    "        y = i*h\n",
    "        roi = src[y:y+h, x:x+w]\n",
    "        dst[y:y+h, x:x+w, 0] = roi[:, :, 0].mean()\n",
    "        dst[y:y+h, x:x+w, 1] = roi[:, :, 1].mean()\n",
    "        dst[y:y+h, x:x+w, 2] = roi[:, :, 2].mean()\n",
    "\n",
    "cv2.imshow('dst', dst)\n",
    "cv2.waitKey()\n",
    "cv2.destroyAllWindows()"
   ]
  },
  {
   "cell_type": "markdown",
   "id": "400ce01d",
   "metadata": {},
   "source": [
    "* 영상 복사"
   ]
  },
  {
   "cell_type": "code",
   "execution_count": 34,
   "id": "ac03677a",
   "metadata": {},
   "outputs": [],
   "source": [
    "src = cv2.imread('./data/lena.jpg', cv2.IMREAD_GRAYSCALE)\n",
    "\n",
    "#dst = src        # 참조\n",
    "dst = src.copy() # 복사\n",
    "\n",
    "dst[100:400, 200:300] = 0\n",
    "\n",
    "cv2.imshow('src', src)\n",
    "cv2.imshow('dst', dst)\n",
    "cv2.waitKey()\n",
    "cv2.destroyAllWindows()\n"
   ]
  },
  {
   "cell_type": "code",
   "execution_count": 38,
   "id": "d09dcab6",
   "metadata": {},
   "outputs": [],
   "source": [
    "src = cv2.imread('./data/lena.jpg', cv2.IMREAD_GRAYSCALE)\n",
    "\n",
    "shape = src.shape[0], src.shape[1], 3\n",
    "dst = np.zeros(shape, dtype=np.uint8)\n",
    "\n",
    "#dst[:, :, 0] = src\n",
    "#dst[:, :, 1] = src\n",
    "dst[:, :, 2] = src\n",
    "\n",
    "cv2.imshow('src', src)\n",
    "cv2.imshow('dst', dst)\n",
    "cv2.waitKey()\n",
    "cv2.destroyAllWindows()"
   ]
  },
  {
   "cell_type": "markdown",
   "id": "fba82c10",
   "metadata": {},
   "source": [
    "* 채널 분리"
   ]
  },
  {
   "cell_type": "code",
   "execution_count": 39,
   "id": "fd2c7880",
   "metadata": {},
   "outputs": [],
   "source": [
    "src = cv2.imread('./data/lena.jpg')\n",
    "\n",
    "dst = cv2.split(src)\n",
    "\n",
    "cv2.imshow('src', src)\n",
    "cv2.imshow('blue', dst[0])\n",
    "cv2.imshow('green', dst[1])\n",
    "cv2.imshow('red', dst[2])\n",
    "           \n",
    "cv2.waitKey()\n",
    "cv2.destroyAllWindows()"
   ]
  },
  {
   "cell_type": "code",
   "execution_count": 63,
   "id": "1b44ca66",
   "metadata": {},
   "outputs": [],
   "source": [
    "src = cv2.imread('./data/candies.png')\n",
    "\n",
    "b, g, r = cv2.split(src)\n",
    "\n",
    "cv2.imshow('src', src)\n",
    "cv2.imshow('blue', b)\n",
    "cv2.imshow('green', g)\n",
    "cv2.imshow('red', r)\n",
    "           \n",
    "cv2.waitKey()\n",
    "cv2.destroyAllWindows()"
   ]
  },
  {
   "cell_type": "code",
   "execution_count": null,
   "id": "4079dad5",
   "metadata": {},
   "outputs": [],
   "source": [
    "* 채널 병합"
   ]
  },
  {
   "cell_type": "code",
   "execution_count": 64,
   "id": "c7482430",
   "metadata": {},
   "outputs": [],
   "source": [
    "merge = cv2.merge([b, g, r])\n",
    "\n",
    "cv2.imshow('merge', merge)           \n",
    "cv2.waitKey()\n",
    "cv2.destroyAllWindows()"
   ]
  },
  {
   "cell_type": "markdown",
   "id": "07d93516",
   "metadata": {},
   "source": [
    "* 색 변환"
   ]
  },
  {
   "cell_type": "code",
   "execution_count": 70,
   "id": "604d63b2",
   "metadata": {},
   "outputs": [],
   "source": [
    "src = cv2.imread('./data/lena.jpg')"
   ]
  },
  {
   "cell_type": "code",
   "execution_count": 71,
   "id": "f16136f0",
   "metadata": {},
   "outputs": [],
   "source": [
    "gray = cv2.cvtColor(src, cv2.COLOR_BGR2GRAY)\n",
    "yCrCv = cv2.cvtColor(src, cv2.COLOR_BGR2YCrCb)\n",
    "hsv = cv2.cvtColor(src, cv2.COLOR_BGR2HSV)\n"
   ]
  },
  {
   "cell_type": "code",
   "execution_count": 67,
   "id": "686c1bc1",
   "metadata": {},
   "outputs": [],
   "source": [
    "cv2.imshow(\"gray\", gray)\n",
    "cv2.imshow(\"yCrCv\", yCrCv)\n",
    "cv2.imshow(\"hsv\", hsv)\n",
    "\n",
    "cv2.waitKey()\n",
    "cv2.destroyAllWindows()"
   ]
  },
  {
   "cell_type": "code",
   "execution_count": 72,
   "id": "c13b5d49",
   "metadata": {},
   "outputs": [],
   "source": [
    "bgr = cv2.cvtColor(gray, cv2.COLOR_GRAY2BGR)\n",
    "cv2.imshow(\"bgr\", bgr)\n",
    "cv2.waitKey()\n",
    "cv2.destroyAllWindows()"
   ]
  },
  {
   "cell_type": "code",
   "execution_count": 73,
   "id": "2aac1e9d",
   "metadata": {},
   "outputs": [
    {
     "data": {
      "text/plain": [
       "(512, 512, 3)"
      ]
     },
     "execution_count": 73,
     "metadata": {},
     "output_type": "execute_result"
    }
   ],
   "source": [
    "bgr.shape"
   ]
  },
  {
   "cell_type": "code",
   "execution_count": 76,
   "id": "8f3d41fe",
   "metadata": {},
   "outputs": [
    {
     "data": {
      "text/plain": [
       "262144"
      ]
     },
     "execution_count": 76,
     "metadata": {},
     "output_type": "execute_result"
    }
   ],
   "source": [
    "512 * 512"
   ]
  },
  {
   "cell_type": "code",
   "execution_count": 78,
   "id": "869e4ba4",
   "metadata": {},
   "outputs": [
    {
     "data": {
      "text/plain": [
       "262144"
      ]
     },
     "execution_count": 78,
     "metadata": {},
     "output_type": "execute_result"
    }
   ],
   "source": [
    "(bgr[:, :, 2] == gray).sum()"
   ]
  },
  {
   "cell_type": "markdown",
   "id": "9bf3821a",
   "metadata": {},
   "source": [
    "* 영상 크기 변환"
   ]
  },
  {
   "cell_type": "code",
   "execution_count": 80,
   "id": "8804a187",
   "metadata": {},
   "outputs": [],
   "source": [
    "src = cv2.imread(\"./data/lena.jpg\", cv2.IMREAD_GRAYSCALE)"
   ]
  },
  {
   "cell_type": "code",
   "execution_count": 85,
   "id": "33830071",
   "metadata": {},
   "outputs": [],
   "source": [
    "dst1 = cv2.resize(src, dsize=(320, 240))\n",
    "dst2 = cv2.resize(src, dsize=(0,0), fx=1.5, fy=1.2)\n",
    "\n",
    "cv2.imshow('dst1', dst1)\n",
    "cv2.imshow('dst2', dst2)\n",
    "cv2.waitKey()\n",
    "cv2.destroyAllWindows()"
   ]
  },
  {
   "cell_type": "markdown",
   "id": "7b192346",
   "metadata": {},
   "source": [
    "* 영상 회전 변환"
   ]
  },
  {
   "cell_type": "code",
   "execution_count": 86,
   "id": "c4ebdc98",
   "metadata": {},
   "outputs": [],
   "source": [
    "src = cv2.imread(\"./data/lena.jpg\")\n",
    "\n",
    "dst1 = cv2.rotate(src, cv2.ROTATE_90_CLOCKWISE)\n",
    "dst2 = cv2.rotate(src, cv2.ROTATE_90_COUNTERCLOCKWISE)\n",
    "\n",
    "cv2.imshow('dst1', dst1)\n",
    "cv2.imshow('dst2', dst2)\n",
    "cv2.waitKey()\n",
    "cv2.destroyAllWindows()"
   ]
  },
  {
   "cell_type": "markdown",
   "id": "62072e95",
   "metadata": {},
   "source": [
    "* 영상 회전 변환 (축소/확대)"
   ]
  },
  {
   "cell_type": "code",
   "execution_count": 89,
   "id": "7e8be645",
   "metadata": {},
   "outputs": [],
   "source": [
    "src = cv2.imread(\"./data/lena.jpg\")\n",
    "\n",
    "height, width, channels = src.shape\n",
    "\n",
    "M1 = cv2.getRotationMatrix2D((height/2, width/2), 45, 0.5)\n",
    "M2 = cv2.getRotationMatrix2D((height/2, width/2), -45, 0.5)\n",
    "\n",
    "dst1 = cv2.warpAffine(src, M1, (width, height))\n",
    "dst2 = cv2.warpAffine(src, M2, (width, height))\n",
    "\n",
    "cv2.imshow('dst1', dst1)\n",
    "cv2.imshow('dst2', dst2)\n",
    "cv2.waitKey()\n",
    "cv2.destroyAllWindows()"
   ]
  },
  {
   "cell_type": "markdown",
   "id": "76577519",
   "metadata": {},
   "source": [
    "* 영상 어파인 변환 (모서리 3점)"
   ]
  },
  {
   "cell_type": "code",
   "execution_count": 90,
   "id": "aba14fb3",
   "metadata": {},
   "outputs": [],
   "source": [
    "src = cv2.imread(\"./data/tekapo.bmp\")\n",
    "height, width, channels = src.shape\n",
    "\n",
    "srcPts = np.float32([[0, 0], [width-1, 0], [width-1, height-1]])\n",
    "dstPts = np.float32([[50, 50], [width-100, 100], [width-50, height-50]])\n",
    "\n",
    "M = cv2.getAffineTransform(srcPts, dstPts)\n",
    "\n",
    "dst = cv2.warpAffine(src, M, (width, height))\n",
    "\n",
    "cv2.imshow('dst', dst)\n",
    "cv2.waitKey()\n",
    "cv2.destroyAllWindows()"
   ]
  },
  {
   "cell_type": "markdown",
   "id": "b9b1d435",
   "metadata": {},
   "source": [
    "* 영상 이동 변환"
   ]
  },
  {
   "cell_type": "code",
   "execution_count": 95,
   "id": "4d9c5266",
   "metadata": {},
   "outputs": [],
   "source": [
    "src = cv2.imread(\"./data/tekapo.bmp\")\n",
    "height, width, channels = src.shape\n",
    "\n",
    "M = np.array([[1, 0, 150],\n",
    "              [0, 1, 100]], dtype=np.float64)\n",
    "\n",
    "dst = cv2.warpAffine(src, M, (width, height))\n",
    "\n",
    "cv2.imshow('dst', dst)\n",
    "cv2.waitKey()\n",
    "cv2.destroyAllWindows()"
   ]
  },
  {
   "cell_type": "markdown",
   "id": "a70d554f",
   "metadata": {},
   "source": [
    "* 영상 대칭 변환"
   ]
  },
  {
   "cell_type": "code",
   "execution_count": 104,
   "id": "2751792f",
   "metadata": {},
   "outputs": [],
   "source": [
    "src = cv2.imread(\"./data/eastsea.bmp\")\n",
    "cv2.imshow(\"src\", src)\n",
    "\n",
    "\n",
    "dst = cv2.flip(src, -1) # 1 : 좌우대칭,  0: 상하대칭,  -1: 좌우, 상하대칭\n",
    "\n",
    "cv2.imshow(\"dst\", dst)\n",
    "cv2.waitKey()\n",
    "cv2.destroyAllWindows()"
   ]
  },
  {
   "cell_type": "markdown",
   "id": "159f2aa3",
   "metadata": {},
   "source": [
    "* 영상 투시 변환"
   ]
  },
  {
   "cell_type": "code",
   "execution_count": 120,
   "id": "049f1d9c",
   "metadata": {},
   "outputs": [],
   "source": [
    "cnt = 0\n",
    "\n",
    "w = 200\n",
    "h = 300\n",
    "\n",
    "srcQuad = np.zeros((4,2), dtype=np.float32)\n",
    "#dstQuad = np.zeros((4,2), dtype=np.float32)\n",
    "dstQuad = np.array([[0, 0], [w-1, 0], [w-1, h-1], [0, h-1]], dtype=np.float32)\n",
    "\n",
    "def onMouse(event, x, y, flags, param):\n",
    "    global cnt\n",
    "    \n",
    "    if event == cv2.EVENT_LBUTTONDOWN:\n",
    "        if (cnt < 4):\n",
    "            srcQuad[cnt] = np.array([x, y], dtype=np.float32)\n",
    "            cv2.circle(param[0], (x, y), 5, (255, 0, 0), 2)\n",
    "            cv2.imshow('src', param[0])\n",
    "            cnt += 1\n",
    "        if (cnt == 4):\n",
    "            M = cv2.getPerspectiveTransform(srcQuad, dstQuad)\n",
    "            dst = cv2.warpPerspective(param[0], M, (w, h))\n",
    "            cv2.imshow('dst', dst)\n",
    "            \n",
    "\n",
    "src = cv2.imread(\"./data/card.bmp\")\n",
    "cv2.imshow(\"src\", src)\n",
    "cv2.setMouseCallback('src', onMouse, [src])\n",
    "\n",
    "cv2.waitKey()\n",
    "cv2.destroyAllWindows()"
   ]
  },
  {
   "cell_type": "code",
   "execution_count": 123,
   "id": "1ad8e3ac",
   "metadata": {},
   "outputs": [],
   "source": [
    "src = cv2.imread(\"./data/card.bmp\")\n",
    "\n",
    "cnt = 0\n",
    "w = 200\n",
    "h = 300\n",
    "\n",
    "srcQuad = np.zeros((4,2), dtype=np.float32)\n",
    "# dstQuad = np.zeros((4,2), dtype=np.float32)\n",
    "dstQuad = np.array([[0,0],[w-1, 0],[w-1, h-1],[0, h-1]], dtype=np.float32)\n",
    "\n",
    "def onMouse(event, x, y, flags, param):\n",
    "    global cnt # 전역변수로 사용\n",
    "    \n",
    "    if event == cv2.EVENT_LBUTTONDOWN:\n",
    "        if (cnt < 4):\n",
    "            srcQuad[cnt] = np.array([x, y], dtype=np.float32)\n",
    "            cv2.circle(param[0], (x, y), 5, (255, 0, 0), 2)\n",
    "            cv2.imshow('src', param[0])\n",
    "            cnt += 1\n",
    "        if (cnt ==4):\n",
    "            M = cv2.getPerspectiveTransform(srcQuad, dstQuad)\n",
    "            dst = cv2.warpPerspective(param[0], M, (w, h))\n",
    "            cv2.imshow('dst', dst)\n",
    "\n",
    "\n",
    "src = cv2.imread(\"./data/card.bmp\")\n",
    "cv2.imshow('src', src)\n",
    "cv2.setMouseCallback('src', onMouse, [src])\n",
    "\n",
    "\n",
    "cv2.waitKey()\n",
    "cv2.destroyAllWindows()\n"
   ]
  },
  {
   "cell_type": "code",
   "execution_count": null,
   "id": "f11284bd",
   "metadata": {},
   "outputs": [],
   "source": []
  }
 ],
 "metadata": {
  "kernelspec": {
   "display_name": "Python 3",
   "language": "python",
   "name": "python3"
  },
  "language_info": {
   "codemirror_mode": {
    "name": "ipython",
    "version": 3
   },
   "file_extension": ".py",
   "mimetype": "text/x-python",
   "name": "python",
   "nbconvert_exporter": "python",
   "pygments_lexer": "ipython3",
   "version": "3.8.8"
  }
 },
 "nbformat": 4,
 "nbformat_minor": 5
}
