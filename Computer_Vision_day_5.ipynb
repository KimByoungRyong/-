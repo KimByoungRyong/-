{
 "cells": [
  {
   "cell_type": "markdown",
   "id": "7e4dfe9b",
   "metadata": {},
   "source": [
    "## 영상의 필터링"
   ]
  },
  {
   "cell_type": "code",
   "execution_count": 2,
   "id": "c8717ec1",
   "metadata": {},
   "outputs": [],
   "source": [
    "import cv2\n",
    "import numpy as np"
   ]
  },
  {
   "cell_type": "markdown",
   "id": "08f55b2a",
   "metadata": {},
   "source": [
    "* 엠보싱 필터"
   ]
  },
  {
   "cell_type": "code",
   "execution_count": 8,
   "id": "d5343bdb",
   "metadata": {},
   "outputs": [],
   "source": [
    "img = cv2.imread(\"./data/rose.bmp\")\n",
    "gray = cv2.cvtColor(img, cv2.COLOR_BGR2GRAY)\n",
    "\n",
    "mask = np.array([[-1, -1, 0], [-1, 0, 1], [0, 1, 1]])\n",
    "out = cv2.filter2D(gray, -1, mask)\n",
    "\n",
    "cv2.imshow(\"img\", gray)\n",
    "cv2.imshow(\"out\", out)\n",
    "cv2.waitKey()\n",
    "cv2.destroyAllWindows()"
   ]
  },
  {
   "cell_type": "markdown",
   "id": "d66a048f",
   "metadata": {},
   "source": [
    "* 평균값 필터 (blur, boxFilter)"
   ]
  },
  {
   "cell_type": "code",
   "execution_count": 9,
   "id": "b2bd3a53",
   "metadata": {},
   "outputs": [],
   "source": [
    "src = cv2.imread(\"./data/lena.jpg\", cv2.IMREAD_GRAYSCALE)\n",
    "\n",
    "dst = cv2.blur(src, ksize=(5, 5))\n",
    "#dst = cv2.blur(src, ksize=(21, 21))\n",
    "\n",
    "cv2.imshow(\"src\", src)\n",
    "cv2.imshow(\"dst\", dst)\n",
    "cv2.waitKey()\n",
    "cv2.destroyAllWindows()"
   ]
  },
  {
   "cell_type": "code",
   "execution_count": 13,
   "id": "58fc8e2c",
   "metadata": {},
   "outputs": [],
   "source": [
    "src = cv2.imread(\"./data/lena.jpg\", cv2.IMREAD_GRAYSCALE)\n",
    "dst = cv2.boxFilter(src, -1, ksize=(5, 5))\n",
    "\n",
    "cv2.imshow(\"src\", src)\n",
    "cv2.imshow(\"dst\", dst)\n",
    "cv2.waitKey()\n",
    "cv2.destroyAllWindows()"
   ]
  },
  {
   "cell_type": "markdown",
   "id": "0d9704d1",
   "metadata": {},
   "source": [
    "* 가우시안 필터"
   ]
  },
  {
   "cell_type": "code",
   "execution_count": 21,
   "id": "74451f22",
   "metadata": {},
   "outputs": [],
   "source": [
    "src = cv2.imread(\"./data/lena.jpg\", cv2.IMREAD_GRAYSCALE)\n",
    "dst1 = cv2.GaussianBlur(src, ksize=(7, 7), sigmaX=1.0, sigmaY=1.0)\n",
    "dst2 = cv2.GaussianBlur(src, ksize=(7, 7), sigmaX=2.0, sigmaY=2.0)\n",
    "\n",
    "cv2.imshow(\"src\", src)\n",
    "cv2.imshow(\"dst1\", dst1)\n",
    "cv2.imshow(\"dst2\", dst2)\n",
    "\n",
    "cv2.waitKey()\n",
    "cv2.destroyAllWindows()"
   ]
  },
  {
   "cell_type": "code",
   "execution_count": 24,
   "id": "a28b3b21",
   "metadata": {},
   "outputs": [],
   "source": [
    "img = cv2.imread(\"./data/rose.bmp\", cv2.IMREAD_GRAYSCALE)\n",
    "\n",
    "for i in range(3):\n",
    "    dst = cv2.GaussianBlur(img, ksize=(7, 7), sigmaX= (i+1))\n",
    "    cv2.imshow(f'sigmaX = {i+1}', dst)\n",
    "    \n",
    "cv2.waitKey()    \n",
    "cv2.destroyAllWindows()"
   ]
  },
  {
   "cell_type": "markdown",
   "id": "fb410c20",
   "metadata": {},
   "source": [
    "* 언샤프 마스크 필터"
   ]
  },
  {
   "cell_type": "code",
   "execution_count": 26,
   "id": "8eeff6cc",
   "metadata": {},
   "outputs": [],
   "source": [
    "img = cv2.imread(\"./data/rose.bmp\", cv2.IMREAD_GRAYSCALE)\n",
    "\n",
    "for i in range(3):\n",
    "    blurred = cv2.GaussianBlur(img, ksize=(7, 7), sigmaX=(i+1))\n",
    "    alpha = 1.0\n",
    "    dst = (1 + alpha)*img - (alpha*blurred)\n",
    "    dst = np.uint8(dst)\n",
    "    cv2.imshow(f'sigmaX={i+1}', dst)\n",
    "    \n",
    "cv2.waitKey()    \n",
    "cv2.destroyAllWindows()  "
   ]
  },
  {
   "cell_type": "markdown",
   "id": "4d938c60",
   "metadata": {},
   "source": [
    "* 양방향 필터"
   ]
  },
  {
   "cell_type": "code",
   "execution_count": 38,
   "id": "c7121f95",
   "metadata": {},
   "outputs": [],
   "source": [
    "src = cv2.imread(\"./data/lena.bmp\", cv2.IMREAD_GRAYSCALE)\n",
    "\n",
    "data = np.zeros(src.shape, dtype=np.uint8)\n",
    "noise = cv2.randn(data, mean=0, stddev=10)\n",
    "\n",
    "src_noise = cv2.add(src, noise)\n",
    "\n",
    "dst1 = cv2.GaussianBlur(src_noise, ksize=(7,7), sigmaX=10)\n",
    "dst2 = cv2.bilateralFilter(src_noise, -1, sigmaColor=20, sigmaSpace=10)\n",
    "\n",
    "cv2.imshow(\"src\", src)\n",
    "cv2.imshow(\"src_noise\", src_noise) \n",
    "cv2.imshow(\"dst1\", dst1) \n",
    "cv2.imshow(\"dst2\", dst2) \n",
    "cv2.waitKey()    \n",
    "cv2.destroyAllWindows()  "
   ]
  },
  {
   "cell_type": "markdown",
   "id": "8e9b087a",
   "metadata": {},
   "source": [
    "* 미디언 필터"
   ]
  },
  {
   "cell_type": "code",
   "execution_count": 43,
   "id": "4f653eb8",
   "metadata": {},
   "outputs": [],
   "source": [
    "src = cv2.imread(\"./data/lena.bmp\", cv2.IMREAD_GRAYSCALE)\n",
    "\n",
    "num = src.shape[0] * src.shape[1] * 0.1\n",
    "\n",
    "for i in range(np.int64(num)):\n",
    "    x = np.random.randint(src.shape[1])\n",
    "    y = np.random.randint(src.shape[0])\n",
    "    src[y, x] = (i % 2) * 255\n",
    "\n",
    "gaussian = cv2.GaussianBlur(src, ksize=(7, 7), sigmaX=5)\n",
    "median = cv2.medianBlur(src, ksize= 7)\n",
    "\n",
    "cv2.imshow(\"gaussian\", gaussian) \n",
    "cv2.imshow(\"median\", median) \n",
    "cv2.imshow(\"src\", src) \n",
    "cv2.waitKey()    \n",
    "cv2.destroyAllWindows()  "
   ]
  },
  {
   "cell_type": "markdown",
   "id": "61548f69",
   "metadata": {},
   "source": [
    "## 모폴로지 연산"
   ]
  },
  {
   "cell_type": "markdown",
   "id": "58522ff7",
   "metadata": {},
   "source": [
    "* 침식과 팽창"
   ]
  },
  {
   "cell_type": "code",
   "execution_count": 49,
   "id": "f8c646fd",
   "metadata": {},
   "outputs": [],
   "source": [
    "src = cv2.imread('./data/morphology.jpg', cv2.IMREAD_GRAYSCALE)\n",
    "\n",
    "kernel = cv2.getStructuringElement(shape=cv2.MORPH_RECT, ksize=(3,3))\n",
    "\n",
    "erode = cv2.erode(src, kernel, iterations=5)\n",
    "dilate = cv2.dilate(src, kernel, iterations=5)\n",
    "\n",
    "cv2.imshow(\"erode\", erode) \n",
    "cv2.imshow(\"dilate\", dilate) \n",
    "cv2.imshow(\"src\", src) \n",
    "cv2.waitKey()    \n",
    "cv2.destroyAllWindows()"
   ]
  },
  {
   "cell_type": "markdown",
   "id": "217184c1",
   "metadata": {},
   "source": [
    "* 열기와 닫기"
   ]
  },
  {
   "cell_type": "code",
   "execution_count": 58,
   "id": "d90f99b0",
   "metadata": {},
   "outputs": [],
   "source": [
    "src = cv2.imread('./data/morphology.jpg', cv2.IMREAD_GRAYSCALE)\n",
    "\n",
    "kernel = cv2.getStructuringElement(shape=cv2.MORPH_RECT, ksize=(3,3))\n",
    "\n",
    "closing = cv2.morphologyEx(src, cv2.MORPH_CLOSE, kernel, iterations=4)\n",
    "opening = cv2.morphologyEx(src, cv2.MORPH_OPEN, kernel, iterations=4)\n",
    "open_close = cv2.morphologyEx(opening, cv2.MORPH_CLOSE, kernel, iterations=4)\n",
    "\n",
    "cv2.imshow(\"src\", src) \n",
    "cv2.imshow('closing', closing)\n",
    "cv2.imshow('opening', opening)\n",
    "cv2.imshow('open_close', open_close)\n",
    "cv2.waitKey()    \n",
    "cv2.destroyAllWindows()"
   ]
  },
  {
   "cell_type": "markdown",
   "id": "59230bb1",
   "metadata": {},
   "source": [
    "## 에지 검출과 응용"
   ]
  },
  {
   "cell_type": "markdown",
   "id": "bb57a6be",
   "metadata": {},
   "source": [
    "* 미분 필터"
   ]
  },
  {
   "cell_type": "code",
   "execution_count": 95,
   "id": "77aaf38f",
   "metadata": {},
   "outputs": [],
   "source": [
    "src = cv2.imread('./data/rect.jpg', cv2.IMREAD_GRAYSCALE)\n",
    "#src = cv2.imread('./data/lena.jpg', cv2.IMREAD_GRAYSCALE)\n",
    "\n",
    "gx = cv2.Sobel(src, cv2.CV_32F, 1, 0, ksize = 3)\n",
    "gy = cv2.Sobel(src, cv2.CV_32F, 0, 1, ksize = 3)\n",
    "\n",
    "dstX = cv2.sqrt(np.abs(gx))\n",
    "dstX = cv2.normalize(dstX, None, 0, 255, cv2.NORM_MINMAX, dtype=cv2.CV_8U)\n",
    "\n",
    "dstY = cv2.sqrt(np.abs(gy))\n",
    "dstY = cv2.normalize(dstY, None, 0, 255, cv2.NORM_MINMAX, dtype=cv2.CV_8U)\n",
    "\n",
    "mag = cv2.magnitude(gx, gy)\n",
    "dstM = cv2.normalize(mag, None, 0, 255, cv2.NORM_MINMAX, dtype=cv2.CV_8U)\n",
    "\n",
    "ret, edge = cv2.threshold(mag, 120, 255, cv2.THRESH_BINARY)\n",
    "edge = edge.astype(np.uint8)\n",
    "\n",
    "cv2.imshow(\"rect\", src)\n",
    "cv2.imshow(\"dstX\", dstX)\n",
    "cv2.imshow(\"dstY\", dstY)\n",
    "cv2.imshow(\"dstM\", dstM)\n",
    "cv2.imshow(\"edge\", edge)\n",
    "cv2.waitKey()    \n",
    "cv2.destroyAllWindows()"
   ]
  },
  {
   "cell_type": "code",
   "execution_count": 97,
   "id": "c627c6fd",
   "metadata": {},
   "outputs": [],
   "source": [
    "src = cv2.imread('./data/lena.jpg', cv2.IMREAD_GRAYSCALE)\n",
    "blur = cv2.GaussianBlur(src, ksize=(7, 7), sigmaX=0.0)\n",
    "\n",
    "gx1 = cv2.Sobel(src, cv2.CV_32F, 1, 0, ksize = 3)\n",
    "gy1 = cv2.Sobel(src, cv2.CV_32F, 0, 1, ksize = 3)\n",
    "mag1, angle1 = cv2.cartToPolar(gx1, gy1, angleInDegrees=True)\n",
    "\n",
    "gx2 = cv2.Sobel(blur, cv2.CV_32F, 1, 0, ksize = 3)\n",
    "gy2 = cv2.Sobel(blur, cv2.CV_32F, 0, 1, ksize = 3)\n",
    "mag2, angle2 = cv2.cartToPolar(gx2, gy2, angleInDegrees=True)\n",
    "\n",
    "ret1, edge1 = cv2.threshold(mag1, 100, 255, cv2.THRESH_BINARY)\n",
    "edge1 = edge1.astype(np.uint8)\n",
    "\n",
    "ret2, edge2 = cv2.threshold(mag2, 100, 255, cv2.THRESH_BINARY)\n",
    "edge2 = edge2.astype(np.uint8)\n",
    "\n",
    "cv2.imshow(\"edge1\", edge1)\n",
    "cv2.imshow(\"edge2\", edge2)\n",
    "cv2.waitKey()    \n",
    "cv2.destroyAllWindows()"
   ]
  },
  {
   "cell_type": "code",
   "execution_count": null,
   "id": "347538e8",
   "metadata": {},
   "outputs": [],
   "source": []
  }
 ],
 "metadata": {
  "kernelspec": {
   "display_name": "Python 3",
   "language": "python",
   "name": "python3"
  },
  "language_info": {
   "codemirror_mode": {
    "name": "ipython",
    "version": 3
   },
   "file_extension": ".py",
   "mimetype": "text/x-python",
   "name": "python",
   "nbconvert_exporter": "python",
   "pygments_lexer": "ipython3",
   "version": "3.8.8"
  }
 },
 "nbformat": 4,
 "nbformat_minor": 5
}
