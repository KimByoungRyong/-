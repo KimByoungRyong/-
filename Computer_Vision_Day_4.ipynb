{
 "cells": [
  {
   "cell_type": "markdown",
   "id": "11dcd1d5",
   "metadata": {},
   "source": [
    "* 영상 연산"
   ]
  },
  {
   "cell_type": "code",
   "execution_count": 1,
   "id": "a3b4820a",
   "metadata": {},
   "outputs": [],
   "source": [
    "import cv2\n",
    "import numpy as np"
   ]
  },
  {
   "cell_type": "code",
   "execution_count": null,
   "id": "90a11084",
   "metadata": {},
   "outputs": [],
   "source": [
    "# GrayScale"
   ]
  },
  {
   "cell_type": "code",
   "execution_count": 10,
   "id": "c3a76330",
   "metadata": {},
   "outputs": [],
   "source": [
    "src1 = cv2.imread('./data/lena.jpg', cv2.IMREAD_GRAYSCALE)\n",
    "src2 = np.zeros(shape=src1.shape, dtype=np.uint8) + 50\n",
    "dst = cv2.add(src1, src2)\n",
    "\n",
    "cv2.imshow('src1', src)\n",
    "cv2.imshow('dst', dst)\n",
    "cv2.waitKey()\n",
    "cv2.destroyAllWindows()"
   ]
  },
  {
   "cell_type": "code",
   "execution_count": null,
   "id": "912b74e7",
   "metadata": {},
   "outputs": [],
   "source": [
    "# Color"
   ]
  },
  {
   "cell_type": "code",
   "execution_count": 13,
   "id": "180be667",
   "metadata": {},
   "outputs": [],
   "source": [
    "src1 = cv2.imread('./data/lena.jpg')\n",
    "src2 = np.zeros(shape = src1.shape, dtype = np.uint8) + 50\n",
    "\n",
    "# dst = src + 50 #모든 픽셀에 50씩 더해진다.\n",
    "dst = cv2.add(src1, src2)\n",
    "\n",
    "cv2.imshow('src', src1)\n",
    "cv2.imshow('dst', dst) # 검게 나온부분이 있는 이유는 255를 넘어갔기 때문\n",
    "cv2.waitKey()\n",
    "cv2.destroyAllWindows()\n"
   ]
  },
  {
   "cell_type": "markdown",
   "id": "b8fc42f6",
   "metadata": {},
   "source": [
    "* 영상 연산(비트 연산)"
   ]
  },
  {
   "cell_type": "code",
   "execution_count": 38,
   "id": "4bce7b3f",
   "metadata": {},
   "outputs": [],
   "source": [
    "lena = cv2.imread('./data/lena.jpg')\n",
    "logo = cv2.imread('./data/opencv_logo.png') \n",
    "\n",
    "rows, cols, channel = logo.shape\n",
    "roi = lena[:rows, :cols]\n",
    "\n",
    "logo_gray = cv2.cvtColor(logo, cv2.COLOR_BGR2GRAY)\n",
    "ret, mask = cv2.threshold(logo_gray, 160, 255, cv2.THRESH_BINARY)\n",
    "mask_inv = cv2.bitwise_not(mask)\n",
    "lena_bg = cv2.bitwise_and(roi, roi, mask = mask)\n",
    "logo_fg = cv2.bitwise_and(logo, logo, mask = mask_inv)\n",
    "dst = cv2.bitwise_or(lena_bg, logo_fg)\n",
    "lena[:rows, :cols] = dst\n",
    "\n",
    "cv2.imshow('lena', lena)\n",
    "cv2.waitKey()\n",
    "cv2.destroyAllWindows()"
   ]
  },
  {
   "cell_type": "markdown",
   "id": "9b3b32fa",
   "metadata": {},
   "source": [
    "* 실습 (field.bmp 와 airplane.bmp 합성하기)"
   ]
  },
  {
   "cell_type": "code",
   "execution_count": 74,
   "id": "8776e992",
   "metadata": {},
   "outputs": [],
   "source": [
    "airplane = cv2.imread('./data/airplane.bmp')\n",
    "field = cv2.imread('./data/field.bmp')\n",
    "# mask = cv2.imread('./data/mask_plane.bmp')\n",
    "# mask = cv2.cvtColor(mask, cv2.COLOR_BGR2GRAY)\n",
    "\n",
    "airplane_gray = cv2.cvtColor(airplane, cv2.COLOR_BGR2GRAY)\n",
    "ret, mask = cv2.threshold(airplane_gray, 160, 255, cv2.THRESH_BINARY_INV)\n",
    "\n",
    "mask_inv = cv2.bitwise_not(mask)\n",
    "\n",
    "airplane_fg = cv2.bitwise_and(airplane, airplane, mask=mask)\n",
    "\n",
    "field_bg = cv2.bitwise_and(field, field, mask=mask_inv)\n",
    "\n",
    "dst = cv2.bitwise_or(airplane_fg, field_bg)\n",
    "cv2.imshow('dst', dst)\n",
    "cv2.waitKey()\n",
    "cv2.destroyAllWindows()"
   ]
  },
  {
   "cell_type": "markdown",
   "id": "ce429b7b",
   "metadata": {},
   "source": [
    "* 반전 영상"
   ]
  },
  {
   "cell_type": "code",
   "execution_count": 85,
   "id": "7ea215bd",
   "metadata": {},
   "outputs": [],
   "source": [
    "src1 = cv2.imread('./data/lena.jpg', cv2.IMREAD_GRAYSCALE)\n",
    "src2 = np.zeros(shape=src1.shape, dtype=np.uint8) + 255"
   ]
  },
  {
   "cell_type": "code",
   "execution_count": 86,
   "id": "1dbb7ebe",
   "metadata": {},
   "outputs": [],
   "source": [
    "dst1 = 255 - src1\n",
    "dst2 = cv2.subtract(src2, src1)"
   ]
  },
  {
   "cell_type": "code",
   "execution_count": 87,
   "id": "c4d07edc",
   "metadata": {},
   "outputs": [],
   "source": [
    "cv2.imshow('dst1', dst1)\n",
    "cv2.imshow('dst2', dst2)\n",
    "cv2.waitKey()\n",
    "cv2.destroyAllWindows()"
   ]
  },
  {
   "cell_type": "markdown",
   "id": "600cfaba",
   "metadata": {},
   "source": [
    "* 명암비 정규화"
   ]
  },
  {
   "cell_type": "code",
   "execution_count": 88,
   "id": "29079ece",
   "metadata": {},
   "outputs": [],
   "source": [
    "src = cv2.imread('./data/lena.jpg', cv2.IMREAD_GRAYSCALE)\n",
    "\n",
    "minVal, maxVal, minLoc, maxLoc = cv2.minMaxLoc(src)\n",
    "\n",
    "dst = cv2.normalize(src, None, 100, 200, cv2.NORM_MINMAX)\n",
    "\n",
    "minVal, maxVal, minLoc, maxLoc = cv2.minMaxLoc(dst)\n",
    "\n",
    "cv2.imshow('dst', dst)\n",
    "cv2.waitKey()\n",
    "cv2.destroyAllWindows()"
   ]
  },
  {
   "cell_type": "markdown",
   "id": "a0588d7c",
   "metadata": {},
   "source": [
    "## 영상의 이진화"
   ]
  },
  {
   "cell_type": "markdown",
   "id": "bd96f86e",
   "metadata": {},
   "source": [
    "* 전역 이진화"
   ]
  },
  {
   "cell_type": "code",
   "execution_count": 101,
   "id": "8e0b51a7",
   "metadata": {},
   "outputs": [],
   "source": [
    "src = cv2.imread('./data/heart10.jpg', cv2.IMREAD_GRAYSCALE)\n",
    "\n",
    "ret, dst = cv2.threshold(src, 180, 255, cv2.THRESH_BINARY)\n",
    "#ret, dst = cv2.threshold(src, 0, 255, cv2.THRESH_BINARY_INV + cv2.THRESH_OTSU)\n",
    "\n",
    "cv2.imshow('dst', dst)\n",
    "cv2.waitKey()\n",
    "cv2.destroyAllWindows()"
   ]
  },
  {
   "cell_type": "markdown",
   "id": "41a3427e",
   "metadata": {},
   "source": [
    "* 적응형 이진화"
   ]
  },
  {
   "cell_type": "code",
   "execution_count": 130,
   "id": "24b18c57",
   "metadata": {},
   "outputs": [],
   "source": [
    "src = cv2.imread('./data/srcThreshold.png', cv2.IMREAD_GRAYSCALE)\n",
    "\n",
    "ret, dst = cv2.threshold(src, 0, 255, cv2.THRESH_BINARY + cv2.THRESH_OTSU)\n",
    "\n",
    "dst1 = cv2.adaptiveThreshold(src, 255, cv2.ADAPTIVE_THRESH_MEAN_C, cv2.THRESH_BINARY, 51, 7)\n",
    "\n",
    "dst2 = cv2.adaptiveThreshold(src, 255, cv2.ADAPTIVE_THRESH_GAUSSIAN_C, cv2.THRESH_BINARY, 51, 7)\n",
    "\n",
    "cv2.imshow('src', src)\n",
    "cv2.imshow('dst', dst)\n",
    "cv2.imshow('dst1', dst1)\n",
    "cv2.imshow('dst2', dst2)\n",
    "cv2.waitKey()\n",
    "cv2.destroyAllWindows()"
   ]
  },
  {
   "cell_type": "markdown",
   "id": "01195870",
   "metadata": {},
   "source": [
    "* 실습"
   ]
  },
  {
   "cell_type": "markdown",
   "id": "c8522ea8",
   "metadata": {},
   "source": [
    "selectROIs()함수로 roi 2개를 입력 받아 각각 다른 효과 주기\n",
    "1. 첫번째 roi는 그레이스케일로 변환후 150을 임계값으로 이진화\n",
    "2. 두번째 roi는 반전"
   ]
  },
  {
   "cell_type": "code",
   "execution_count": 144,
   "id": "58a9b856",
   "metadata": {},
   "outputs": [],
   "source": [
    "src = cv2.imread('./data/lena.jpg')\n",
    "dst = src.copy()\n",
    "\n",
    "rects = cv2.selectROIs('src', src)\n",
    "\n",
    "for i, rect in enumerate(rects):\n",
    "    x, y, w, h = rect\n",
    "    roi = dst[y:y+h, x:x+w, :]\n",
    "    \n",
    "    if i == 0:\n",
    "        gray = cv2.cvtColor(roi, cv2.COLOR_BGR2GRAY)\n",
    "        ret, dst0 = cv2.threshold(gray, 150, 255, cv2.THRESH_BINARY)\n",
    "        roi[:] = cv2.merge([dst0, dst0, dst0])\n",
    "    elif i == 1:\n",
    "        roi[:] = 255 - roi\n",
    "    else:\n",
    "        print(\"only 2 rois are availble\")\n",
    "        break\n",
    "        \n",
    "cv2.imshow('src', src)\n",
    "cv2.imshow('dst', dst)\n",
    "cv2.waitKey()\n",
    "cv2.destroyAllWindows()"
   ]
  },
  {
   "cell_type": "code",
   "execution_count": null,
   "id": "de3e8878",
   "metadata": {},
   "outputs": [],
   "source": []
  },
  {
   "cell_type": "code",
   "execution_count": null,
   "id": "78749e17",
   "metadata": {},
   "outputs": [],
   "source": []
  },
  {
   "cell_type": "code",
   "execution_count": null,
   "id": "06551ad2",
   "metadata": {},
   "outputs": [],
   "source": []
  },
  {
   "cell_type": "code",
   "execution_count": null,
   "id": "a5592b99",
   "metadata": {},
   "outputs": [],
   "source": []
  },
  {
   "cell_type": "markdown",
   "id": "1dc1c8ea",
   "metadata": {},
   "source": [
    "## 히스토그램 분석"
   ]
  },
  {
   "cell_type": "code",
   "execution_count": null,
   "id": "bf4d1e12",
   "metadata": {},
   "outputs": [],
   "source": []
  },
  {
   "cell_type": "code",
   "execution_count": null,
   "id": "22685746",
   "metadata": {},
   "outputs": [],
   "source": []
  },
  {
   "cell_type": "code",
   "execution_count": null,
   "id": "e700ee7b",
   "metadata": {},
   "outputs": [],
   "source": []
  },
  {
   "cell_type": "code",
   "execution_count": null,
   "id": "f5aaa7c3",
   "metadata": {},
   "outputs": [],
   "source": []
  },
  {
   "cell_type": "code",
   "execution_count": null,
   "id": "a7207c65",
   "metadata": {},
   "outputs": [],
   "source": []
  },
  {
   "cell_type": "code",
   "execution_count": null,
   "id": "e4bde65d",
   "metadata": {},
   "outputs": [],
   "source": []
  },
  {
   "cell_type": "code",
   "execution_count": null,
   "id": "fc6b5a45",
   "metadata": {},
   "outputs": [],
   "source": []
  }
 ],
 "metadata": {
  "kernelspec": {
   "display_name": "Python 3",
   "language": "python",
   "name": "python3"
  },
  "language_info": {
   "codemirror_mode": {
    "name": "ipython",
    "version": 3
   },
   "file_extension": ".py",
   "mimetype": "text/x-python",
   "name": "python",
   "nbconvert_exporter": "python",
   "pygments_lexer": "ipython3",
   "version": "3.8.8"
  }
 },
 "nbformat": 4,
 "nbformat_minor": 5
}
